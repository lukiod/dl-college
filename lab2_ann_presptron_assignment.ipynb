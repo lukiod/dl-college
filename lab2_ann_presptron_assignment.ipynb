{
  "nbformat": 4,
  "nbformat_minor": 0,
  "metadata": {
    "colab": {
      "provenance": [],
      "authorship_tag": "ABX9TyPd1h9WucFwjeWZvIPuS98i",
      "include_colab_link": true
    },
    "kernelspec": {
      "name": "python3",
      "display_name": "Python 3"
    },
    "language_info": {
      "name": "python"
    }
  },
  "cells": [
    {
      "cell_type": "markdown",
      "metadata": {
        "id": "view-in-github",
        "colab_type": "text"
      },
      "source": [
        "<a href=\"https://colab.research.google.com/github/lukiod/dl-college/blob/main/lab2_ann_presptron_assignment.ipynb\" target=\"_parent\"><img src=\"https://colab.research.google.com/assets/colab-badge.svg\" alt=\"Open In Colab\"/></a>"
      ]
    },
    {
      "cell_type": "code",
      "execution_count": 12,
      "metadata": {
        "id": "kPo-t8WLMFOj"
      },
      "outputs": [],
      "source": [
        "import numpy as np\n",
        "import matplotlib.pyplot as plt\n",
        "from sklearn.datasets import load_iris\n",
        "from sklearn.model_selection import train_test_split\n",
        "from sklearn.preprocessing import StandardScaler\n",
        "from sklearn.metrics import accuracy_score, confusion_matrix, classification_report, log_loss"
      ]
    },
    {
      "cell_type": "markdown",
      "source": [
        "## Problem 1"
      ],
      "metadata": {
        "id": "n2jtn2VpM5X1"
      }
    },
    {
      "cell_type": "code",
      "source": [
        "# Load IRIS dataset\n",
        "dataset = load_iris()\n",
        "X, y = dataset.data, dataset.target\n",
        "\n",
        "# Select only Setosa and Versicolor (Binary Classification)\n",
        "selected_classes = (y == 0) | (y == 1)\n",
        "X, y = X[selected_classes], y[selected_classes]"
      ],
      "metadata": {
        "id": "TD3sjxM_My4U"
      },
      "execution_count": 22,
      "outputs": []
    },
    {
      "cell_type": "code",
      "source": [
        "list(dataset.target_names)"
      ],
      "metadata": {
        "colab": {
          "base_uri": "https://localhost:8080/"
        },
        "id": "S-axkdrTSdrV",
        "outputId": "1bd57fac-612b-48fe-e8f4-3e84f5e1738c"
      },
      "execution_count": 23,
      "outputs": [
        {
          "output_type": "execute_result",
          "data": {
            "text/plain": [
              "['setosa', 'versicolor', 'virginica']"
            ]
          },
          "metadata": {},
          "execution_count": 23
        }
      ]
    },
    {
      "cell_type": "code",
      "source": [
        "scaler = StandardScaler()\n",
        "X = scaler.fit_transform(X)"
      ],
      "metadata": {
        "id": "k2R2w94VNPwL"
      },
      "execution_count": 14,
      "outputs": []
    },
    {
      "cell_type": "code",
      "source": [
        "X_train, X_test, y_train, y_test = train_test_split(X, y, test_size=0.3, random_state=42)"
      ],
      "metadata": {
        "id": "3Efmx9SSOeBZ"
      },
      "execution_count": 15,
      "outputs": []
    },
    {
      "cell_type": "code",
      "source": [
        "class Perceptron:\n",
        "    def __init__(self, learning_rate=0.01, epochs=100):\n",
        "        self.lr = learning_rate\n",
        "        self.epochs = epochs\n",
        "        self.weights = None\n",
        "        self.bias = None\n",
        "        self.losses = []\n",
        "        self.accuracies = []\n",
        "\n",
        "    def activation(self, x):\n",
        "        return 1 / (1 + np.exp(-x))  # Sigmoid Activation Function\n",
        "\n",
        "    def fit(self, X, y):\n",
        "        n_samples, n_features = X.shape\n",
        "        self.weights = np.zeros(n_features)\n",
        "        self.bias = 0\n",
        "\n",
        "        for epoch in range(self.epochs):\n",
        "            linear_output = np.dot(X, self.weights) + self.bias\n",
        "            y_pred = self.activation(linear_output)\n",
        "\n",
        "            # Binary Cross-Entropy Loss\n",
        "            loss = -np.mean(y * np.log(y_pred) + (1 - y) * np.log(1 - y_pred))\n",
        "            self.losses.append(loss)\n",
        "\n",
        "            # Accuracy on training data\n",
        "            y_pred_class = np.round(y_pred)\n",
        "            accuracy = accuracy_score(y, y_pred_class)\n",
        "            self.accuracies.append(accuracy)\n",
        "\n",
        "            # Update rule\n",
        "            update = self.lr * (y - y_pred) * y_pred * (1 - y_pred)\n",
        "            self.weights += np.dot(update, X) / n_samples\n",
        "            self.bias += np.mean(update)\n",
        "\n",
        "            print(f\"Epoch {epoch+1}: Loss = {loss:.4f}, Accuracy = {accuracy:.4f}\")\n",
        "\n",
        "    def predict(self, X):\n",
        "        linear_output = np.dot(X, self.weights) + self.bias\n",
        "        return np.round(self.activation(linear_output))\n",
        "\n",
        "\n"
      ],
      "metadata": {
        "id": "_n2OYt86Ojpc"
      },
      "execution_count": 30,
      "outputs": []
    },
    {
      "cell_type": "code",
      "source": [
        "# Train Perceptron Model\n",
        "perceptron = Perceptron(learning_rate=0.01, epochs=100)\n",
        "perceptron.fit(X_train, y_train)\n",
        "\n",
        "# Predictions on Test Data\n",
        "y_pred = perceptron.predict(X_test)\n",
        "\n",
        "# Compute Binary Cross-Entropy Loss\n",
        "bce_loss = log_loss(y_test, perceptron.activation(np.dot(X_test, perceptron.weights) + perceptron.bias))\n",
        "\n",
        "# Evaluation\n",
        "accuracy = accuracy_score(y_test, y_pred)\n",
        "conf_matrix = confusion_matrix(y_test, y_pred)\n",
        "report = classification_report(y_test, y_pred)\n",
        "\n",
        "print(\"Trained Weights:\", perceptron.weights)\n",
        "print(\"Trained Bias:\", perceptron.bias)\n",
        "print(\"Binary Cross-Entropy Loss:\", bce_loss)\n",
        "print(\"Accuracy:\", accuracy)\n",
        "print(\"Confusion Matrix:\\n\", conf_matrix)\n",
        "print(\"Classification Report:\\n\", report)\n",
        "\n",
        "# Plot Loss and Accuracy Curves\n",
        "fig, ax1 = plt.subplots()\n",
        "ax2 = ax1.twinx()\n",
        "ax1.plot(range(1, perceptron.epochs + 1), perceptron.losses, 'g-', label='Loss')\n",
        "ax2.plot(range(1, perceptron.epochs + 1), perceptron.accuracies, 'b-', label='Accuracy')\n",
        "ax1.set_xlabel('Epochs')\n",
        "ax1.set_ylabel('Binary Cross-Entropy Loss', color='g')\n",
        "ax2.set_ylabel('Accuracy', color='b')\n",
        "plt.title('Loss and Accuracy Curves')\n",
        "plt.show()"
      ],
      "metadata": {
        "colab": {
          "base_uri": "https://localhost:8080/",
          "height": 1000
        },
        "id": "t-YfMKJfPCUz",
        "outputId": "70e0a012-3293-46af-a55f-0af79fb733a4"
      },
      "execution_count": 31,
      "outputs": [
        {
          "output_type": "stream",
          "name": "stdout",
          "text": [
            "Epoch 1: Loss = 0.6931, Accuracy = 0.4714\n",
            "Epoch 2: Loss = 0.6911, Accuracy = 0.5286\n",
            "Epoch 3: Loss = 0.6891, Accuracy = 0.5286\n",
            "Epoch 4: Loss = 0.6872, Accuracy = 0.5286\n",
            "Epoch 5: Loss = 0.6853, Accuracy = 0.5286\n",
            "Epoch 6: Loss = 0.6835, Accuracy = 0.5286\n",
            "Epoch 7: Loss = 0.6818, Accuracy = 0.5286\n",
            "Epoch 8: Loss = 0.6801, Accuracy = 0.5286\n",
            "Epoch 9: Loss = 0.6784, Accuracy = 0.5286\n",
            "Epoch 10: Loss = 0.6768, Accuracy = 0.5286\n",
            "Epoch 11: Loss = 0.6752, Accuracy = 0.5286\n",
            "Epoch 12: Loss = 0.6737, Accuracy = 0.5286\n",
            "Epoch 13: Loss = 0.6722, Accuracy = 0.5286\n",
            "Epoch 14: Loss = 0.6708, Accuracy = 0.5286\n",
            "Epoch 15: Loss = 0.6693, Accuracy = 0.5286\n",
            "Epoch 16: Loss = 0.6679, Accuracy = 0.5286\n",
            "Epoch 17: Loss = 0.6666, Accuracy = 0.5286\n",
            "Epoch 18: Loss = 0.6652, Accuracy = 0.5286\n",
            "Epoch 19: Loss = 0.6639, Accuracy = 0.5286\n",
            "Epoch 20: Loss = 0.6627, Accuracy = 0.5286\n",
            "Epoch 21: Loss = 0.6614, Accuracy = 0.5286\n",
            "Epoch 22: Loss = 0.6601, Accuracy = 0.5286\n",
            "Epoch 23: Loss = 0.6589, Accuracy = 0.5286\n",
            "Epoch 24: Loss = 0.6577, Accuracy = 0.5286\n",
            "Epoch 25: Loss = 0.6565, Accuracy = 0.5286\n",
            "Epoch 26: Loss = 0.6554, Accuracy = 0.5286\n",
            "Epoch 27: Loss = 0.6542, Accuracy = 0.5286\n",
            "Epoch 28: Loss = 0.6531, Accuracy = 0.5286\n",
            "Epoch 29: Loss = 0.6520, Accuracy = 0.5286\n",
            "Epoch 30: Loss = 0.6509, Accuracy = 0.5286\n",
            "Epoch 31: Loss = 0.6498, Accuracy = 0.5286\n",
            "Epoch 32: Loss = 0.6487, Accuracy = 0.5286\n",
            "Epoch 33: Loss = 0.6476, Accuracy = 0.5286\n",
            "Epoch 34: Loss = 0.6465, Accuracy = 0.5286\n",
            "Epoch 35: Loss = 0.6455, Accuracy = 0.5286\n",
            "Epoch 36: Loss = 0.6445, Accuracy = 0.5286\n",
            "Epoch 37: Loss = 0.6434, Accuracy = 0.5286\n",
            "Epoch 38: Loss = 0.6424, Accuracy = 0.5286\n",
            "Epoch 39: Loss = 0.6414, Accuracy = 0.5286\n",
            "Epoch 40: Loss = 0.6404, Accuracy = 0.5286\n",
            "Epoch 41: Loss = 0.6394, Accuracy = 0.5286\n",
            "Epoch 42: Loss = 0.6384, Accuracy = 0.5286\n",
            "Epoch 43: Loss = 0.6374, Accuracy = 0.5286\n",
            "Epoch 44: Loss = 0.6364, Accuracy = 0.5286\n",
            "Epoch 45: Loss = 0.6354, Accuracy = 0.5286\n",
            "Epoch 46: Loss = 0.6345, Accuracy = 0.5286\n",
            "Epoch 47: Loss = 0.6335, Accuracy = 0.5286\n",
            "Epoch 48: Loss = 0.6326, Accuracy = 0.5286\n",
            "Epoch 49: Loss = 0.6316, Accuracy = 0.5286\n",
            "Epoch 50: Loss = 0.6307, Accuracy = 0.5286\n",
            "Epoch 51: Loss = 0.6297, Accuracy = 0.5286\n",
            "Epoch 52: Loss = 0.6288, Accuracy = 0.5286\n",
            "Epoch 53: Loss = 0.6279, Accuracy = 0.5286\n",
            "Epoch 54: Loss = 0.6269, Accuracy = 0.5286\n",
            "Epoch 55: Loss = 0.6260, Accuracy = 0.5286\n",
            "Epoch 56: Loss = 0.6251, Accuracy = 0.5286\n",
            "Epoch 57: Loss = 0.6242, Accuracy = 0.5286\n",
            "Epoch 58: Loss = 0.6233, Accuracy = 0.5286\n",
            "Epoch 59: Loss = 0.6224, Accuracy = 0.5286\n",
            "Epoch 60: Loss = 0.6215, Accuracy = 0.5286\n",
            "Epoch 61: Loss = 0.6206, Accuracy = 0.5286\n",
            "Epoch 62: Loss = 0.6197, Accuracy = 0.5286\n",
            "Epoch 63: Loss = 0.6188, Accuracy = 0.5286\n",
            "Epoch 64: Loss = 0.6179, Accuracy = 0.5286\n",
            "Epoch 65: Loss = 0.6170, Accuracy = 0.5286\n",
            "Epoch 66: Loss = 0.6161, Accuracy = 0.5286\n",
            "Epoch 67: Loss = 0.6152, Accuracy = 0.5286\n",
            "Epoch 68: Loss = 0.6143, Accuracy = 0.5286\n",
            "Epoch 69: Loss = 0.6135, Accuracy = 0.5286\n",
            "Epoch 70: Loss = 0.6126, Accuracy = 0.5286\n",
            "Epoch 71: Loss = 0.6117, Accuracy = 0.5286\n",
            "Epoch 72: Loss = 0.6108, Accuracy = 0.5286\n",
            "Epoch 73: Loss = 0.6100, Accuracy = 0.5286\n",
            "Epoch 74: Loss = 0.6091, Accuracy = 0.5286\n",
            "Epoch 75: Loss = 0.6083, Accuracy = 0.5286\n",
            "Epoch 76: Loss = 0.6074, Accuracy = 0.5286\n",
            "Epoch 77: Loss = 0.6065, Accuracy = 0.5286\n",
            "Epoch 78: Loss = 0.6057, Accuracy = 0.5286\n",
            "Epoch 79: Loss = 0.6048, Accuracy = 0.5286\n",
            "Epoch 80: Loss = 0.6040, Accuracy = 0.5286\n",
            "Epoch 81: Loss = 0.6031, Accuracy = 0.5286\n",
            "Epoch 82: Loss = 0.6023, Accuracy = 0.5286\n",
            "Epoch 83: Loss = 0.6015, Accuracy = 0.5286\n",
            "Epoch 84: Loss = 0.6006, Accuracy = 0.5286\n",
            "Epoch 85: Loss = 0.5998, Accuracy = 0.5286\n",
            "Epoch 86: Loss = 0.5989, Accuracy = 0.5286\n",
            "Epoch 87: Loss = 0.5981, Accuracy = 0.5286\n",
            "Epoch 88: Loss = 0.5973, Accuracy = 0.5286\n",
            "Epoch 89: Loss = 0.5965, Accuracy = 0.5286\n",
            "Epoch 90: Loss = 0.5956, Accuracy = 0.5286\n",
            "Epoch 91: Loss = 0.5948, Accuracy = 0.5286\n",
            "Epoch 92: Loss = 0.5940, Accuracy = 0.5286\n",
            "Epoch 93: Loss = 0.5932, Accuracy = 0.5429\n",
            "Epoch 94: Loss = 0.5923, Accuracy = 0.5429\n",
            "Epoch 95: Loss = 0.5915, Accuracy = 0.5429\n",
            "Epoch 96: Loss = 0.5907, Accuracy = 0.5429\n",
            "Epoch 97: Loss = 0.5899, Accuracy = 0.5429\n",
            "Epoch 98: Loss = 0.5891, Accuracy = 0.5429\n",
            "Epoch 99: Loss = 0.5883, Accuracy = 0.5429\n",
            "Epoch 100: Loss = 0.5875, Accuracy = 0.5429\n",
            "Trained Weights: [ 0.00970513 -0.06030704  0.1317613   0.05449181]\n",
            "Trained Bias: -0.0083143024396609\n",
            "Binary Cross-Entropy Loss: 0.600878299524145\n",
            "Accuracy: 0.5\n",
            "Confusion Matrix:\n",
            " [[ 2 15]\n",
            " [ 0 13]]\n",
            "Classification Report:\n",
            "               precision    recall  f1-score   support\n",
            "\n",
            "           0       1.00      0.12      0.21        17\n",
            "           1       0.46      1.00      0.63        13\n",
            "\n",
            "    accuracy                           0.50        30\n",
            "   macro avg       0.73      0.56      0.42        30\n",
            "weighted avg       0.77      0.50      0.39        30\n",
            "\n"
          ]
        },
        {
          "output_type": "display_data",
          "data": {
            "text/plain": [
              "<Figure size 640x480 with 2 Axes>"
            ],
            "image/png": "[encoded data removed]"
          },
          "metadata": {}
        }
      ]
    },
    {
      "cell_type": "markdown",
      "source": [
        "### Redo\n"
      ],
      "metadata": {
        "id": "ATuAZUfPSxaV"
      }
    },
    {
      "cell_type": "code",
      "source": [
        "# Load IRIS dataset\n",
        "dataset = load_iris()\n",
        "X, y = dataset.data, dataset.target\n",
        "\n",
        "# Select only Setosa and Versicolor (Binary Classification)\n",
        "selected_classes = (y == 1) | (y == 2)\n",
        "X, y = X[selected_classes], y[selected_classes]"
      ],
      "metadata": {
        "id": "3dg5KSaOSxHi"
      },
      "execution_count": 24,
      "outputs": []
    },
    {
      "cell_type": "code",
      "source": [
        "# Load IRIS dataset\n",
        "dataset = load_iris()\n",
        "X, y = dataset.data, dataset.target\n",
        "\n",
        "# Select only Setosa and Versicolor (Binary Classification)\n",
        "selected_classes = (y == 0) | (y == 1)\n",
        "X, y = X[selected_classes], y[selected_classes]"
      ],
      "metadata": {
        "id": "mekZdVJaS18s"
      },
      "execution_count": 25,
      "outputs": []
    },
    {
      "cell_type": "code",
      "source": [
        "X_train, X_test, y_train, y_test = train_test_split(X, y, test_size=0.3, random_state=42)"
      ],
      "metadata": {
        "id": "dK7u-wheS4if"
      },
      "execution_count": 26,
      "outputs": []
    },
    {
      "cell_type": "code",
      "source": [
        "class Perceptron:\n",
        "    def __init__(self, learning_rate=0.01, epochs=100):\n",
        "        self.lr = learning_rate\n",
        "        self.epochs = epochs\n",
        "        self.weights = None\n",
        "        self.bias = None\n",
        "        self.losses = []\n",
        "        self.accuracies = []\n",
        "\n",
        "    def activation(self, x):\n",
        "        return 1 / (1 + np.exp(-x))  # Sigmoid Activation Function\n",
        "\n",
        "    def fit(self, X, y):\n",
        "        n_samples, n_features = X.shape\n",
        "        self.weights = np.zeros(n_features)\n",
        "        self.bias = 0\n",
        "\n",
        "        for epoch in range(self.epochs):\n",
        "            linear_output = np.dot(X, self.weights) + self.bias\n",
        "            y_pred = self.activation(linear_output)\n",
        "\n",
        "            # Binary Cross-Entropy Loss\n",
        "            loss = -np.mean(y * np.log(y_pred) + (1 - y) * np.log(1 - y_pred))\n",
        "            self.losses.append(loss)\n",
        "\n",
        "            # Accuracy on training data\n",
        "            y_pred_class = np.round(y_pred)\n",
        "            accuracy = accuracy_score(y, y_pred_class)\n",
        "            self.accuracies.append(accuracy)\n",
        "\n",
        "            # Update rule\n",
        "            update = self.lr * (y - y_pred) * y_pred * (1 - y_pred)\n",
        "            self.weights += np.dot(update, X) / n_samples\n",
        "            self.bias += np.mean(update)\n",
        "\n",
        "            print(f\"Epoch {epoch+1}: Loss = {loss:.4f}, Accuracy = {accuracy:.4f}\")\n",
        "\n",
        "    def predict(self, X):\n",
        "        linear_output = np.dot(X, self.weights) + self.bias\n",
        "        return np.round(self.activation(linear_output))\n",
        "\n",
        "\n"
      ],
      "metadata": {
        "id": "Aq44fNKnTGjE"
      },
      "execution_count": 27,
      "outputs": []
    },
    {
      "cell_type": "code",
      "source": [
        "# Train Perceptron Model\n",
        "perceptron = Perceptron(learning_rate=0.01, epochs=100)\n",
        "perceptron.fit(X_train, y_train)\n",
        "\n",
        "# Predictions on Test Data\n",
        "y_pred = perceptron.predict(X_test)\n",
        "\n",
        "# Compute Binary Cross-Entropy Loss\n",
        "bce_loss = log_loss(y_test, perceptron.activation(np.dot(X_test, perceptron.weights) + perceptron.bias))\n",
        "\n",
        "# Evaluation\n",
        "accuracy = accuracy_score(y_test, y_pred)\n",
        "conf_matrix = confusion_matrix(y_test, y_pred)\n",
        "report = classification_report(y_test, y_pred)\n",
        "\n",
        "print(\"Trained Weights:\", perceptron.weights)\n",
        "print(\"Trained Bias:\", perceptron.bias)\n",
        "print(\"Binary Cross-Entropy Loss:\", bce_loss)\n",
        "print(\"Accuracy:\", accuracy)\n",
        "print(\"Confusion Matrix:\\n\", conf_matrix)\n",
        "print(\"Classification Report:\\n\", report)\n",
        "\n",
        "# Plot Loss and Accuracy Curves\n",
        "fig, ax1 = plt.subplots()\n",
        "ax2 = ax1.twinx()\n",
        "ax1.plot(range(1, perceptron.epochs + 1), perceptron.losses, 'g-', label='Loss')\n",
        "ax2.plot(range(1, perceptron.epochs + 1), perceptron.accuracies, 'b-', label='Accuracy')\n",
        "ax1.set_xlabel('Epochs')\n",
        "ax1.set_ylabel('Binary Cross-Entropy Loss', color='g')\n",
        "ax2.set_ylabel('Accuracy', color='b')\n",
        "plt.title('Loss and Accuracy Curves')\n",
        "plt.show()"
      ],
      "metadata": {
        "colab": {
          "base_uri": "https://localhost:8080/",
          "height": 1000
        },
        "id": "ZNxLTJbKTH90",
        "outputId": "7e434db8-f463-459e-ac1f-1095529d748e"
      },
      "execution_count": 28,
      "outputs": [
        {
          "output_type": "stream",
          "name": "stdout",
          "text": [
            "Epoch 1: Loss = 0.6931, Accuracy = 0.4714\n",
            "Epoch 2: Loss = 0.6911, Accuracy = 0.5286\n",
            "Epoch 3: Loss = 0.6891, Accuracy = 0.5286\n",
            "Epoch 4: Loss = 0.6872, Accuracy = 0.5286\n",
            "Epoch 5: Loss = 0.6853, Accuracy = 0.5286\n",
            "Epoch 6: Loss = 0.6835, Accuracy = 0.5286\n",
            "Epoch 7: Loss = 0.6818, Accuracy = 0.5286\n",
            "Epoch 8: Loss = 0.6801, Accuracy = 0.5286\n",
            "Epoch 9: Loss = 0.6784, Accuracy = 0.5286\n",
            "Epoch 10: Loss = 0.6768, Accuracy = 0.5286\n",
            "Epoch 11: Loss = 0.6752, Accuracy = 0.5286\n",
            "Epoch 12: Loss = 0.6737, Accuracy = 0.5286\n",
            "Epoch 13: Loss = 0.6722, Accuracy = 0.5286\n",
            "Epoch 14: Loss = 0.6708, Accuracy = 0.5286\n",
            "Epoch 15: Loss = 0.6693, Accuracy = 0.5286\n",
            "Epoch 16: Loss = 0.6679, Accuracy = 0.5286\n",
            "Epoch 17: Loss = 0.6666, Accuracy = 0.5286\n",
            "Epoch 18: Loss = 0.6652, Accuracy = 0.5286\n",
            "Epoch 19: Loss = 0.6639, Accuracy = 0.5286\n",
            "Epoch 20: Loss = 0.6627, Accuracy = 0.5286\n",
            "Epoch 21: Loss = 0.6614, Accuracy = 0.5286\n",
            "Epoch 22: Loss = 0.6601, Accuracy = 0.5286\n",
            "Epoch 23: Loss = 0.6589, Accuracy = 0.5286\n",
            "Epoch 24: Loss = 0.6577, Accuracy = 0.5286\n",
            "Epoch 25: Loss = 0.6565, Accuracy = 0.5286\n",
            "Epoch 26: Loss = 0.6554, Accuracy = 0.5286\n",
            "Epoch 27: Loss = 0.6542, Accuracy = 0.5286\n",
            "Epoch 28: Loss = 0.6531, Accuracy = 0.5286\n",
            "Epoch 29: Loss = 0.6520, Accuracy = 0.5286\n",
            "Epoch 30: Loss = 0.6509, Accuracy = 0.5286\n",
            "Epoch 31: Loss = 0.6498, Accuracy = 0.5286\n",
            "Epoch 32: Loss = 0.6487, Accuracy = 0.5286\n",
            "Epoch 33: Loss = 0.6476, Accuracy = 0.5286\n",
            "Epoch 34: Loss = 0.6465, Accuracy = 0.5286\n",
            "Epoch 35: Loss = 0.6455, Accuracy = 0.5286\n",
            "Epoch 36: Loss = 0.6445, Accuracy = 0.5286\n",
            "Epoch 37: Loss = 0.6434, Accuracy = 0.5286\n",
            "Epoch 38: Loss = 0.6424, Accuracy = 0.5286\n",
            "Epoch 39: Loss = 0.6414, Accuracy = 0.5286\n",
            "Epoch 40: Loss = 0.6404, Accuracy = 0.5286\n",
            "Epoch 41: Loss = 0.6394, Accuracy = 0.5286\n",
            "Epoch 42: Loss = 0.6384, Accuracy = 0.5286\n",
            "Epoch 43: Loss = 0.6374, Accuracy = 0.5286\n",
            "Epoch 44: Loss = 0.6364, Accuracy = 0.5286\n",
            "Epoch 45: Loss = 0.6354, Accuracy = 0.5286\n",
            "Epoch 46: Loss = 0.6345, Accuracy = 0.5286\n",
            "Epoch 47: Loss = 0.6335, Accuracy = 0.5286\n",
            "Epoch 48: Loss = 0.6326, Accuracy = 0.5286\n",
            "Epoch 49: Loss = 0.6316, Accuracy = 0.5286\n",
            "Epoch 50: Loss = 0.6307, Accuracy = 0.5286\n",
            "Epoch 51: Loss = 0.6297, Accuracy = 0.5286\n",
            "Epoch 52: Loss = 0.6288, Accuracy = 0.5286\n",
            "Epoch 53: Loss = 0.6279, Accuracy = 0.5286\n",
            "Epoch 54: Loss = 0.6269, Accuracy = 0.5286\n",
            "Epoch 55: Loss = 0.6260, Accuracy = 0.5286\n",
            "Epoch 56: Loss = 0.6251, Accuracy = 0.5286\n",
            "Epoch 57: Loss = 0.6242, Accuracy = 0.5286\n",
            "Epoch 58: Loss = 0.6233, Accuracy = 0.5286\n",
            "Epoch 59: Loss = 0.6224, Accuracy = 0.5286\n",
            "Epoch 60: Loss = 0.6215, Accuracy = 0.5286\n",
            "Epoch 61: Loss = 0.6206, Accuracy = 0.5286\n",
            "Epoch 62: Loss = 0.6197, Accuracy = 0.5286\n",
            "Epoch 63: Loss = 0.6188, Accuracy = 0.5286\n",
            "Epoch 64: Loss = 0.6179, Accuracy = 0.5286\n",
            "Epoch 65: Loss = 0.6170, Accuracy = 0.5286\n",
            "Epoch 66: Loss = 0.6161, Accuracy = 0.5286\n",
            "Epoch 67: Loss = 0.6152, Accuracy = 0.5286\n",
            "Epoch 68: Loss = 0.6143, Accuracy = 0.5286\n",
            "Epoch 69: Loss = 0.6135, Accuracy = 0.5286\n",
            "Epoch 70: Loss = 0.6126, Accuracy = 0.5286\n",
            "Epoch 71: Loss = 0.6117, Accuracy = 0.5286\n",
            "Epoch 72: Loss = 0.6108, Accuracy = 0.5286\n",
            "Epoch 73: Loss = 0.6100, Accuracy = 0.5286\n",
            "Epoch 74: Loss = 0.6091, Accuracy = 0.5286\n",
            "Epoch 75: Loss = 0.6083, Accuracy = 0.5286\n",
            "Epoch 76: Loss = 0.6074, Accuracy = 0.5286\n",
            "Epoch 77: Loss = 0.6065, Accuracy = 0.5286\n",
            "Epoch 78: Loss = 0.6057, Accuracy = 0.5286\n",
            "Epoch 79: Loss = 0.6048, Accuracy = 0.5286\n",
            "Epoch 80: Loss = 0.6040, Accuracy = 0.5286\n",
            "Epoch 81: Loss = 0.6031, Accuracy = 0.5286\n",
            "Epoch 82: Loss = 0.6023, Accuracy = 0.5286\n",
            "Epoch 83: Loss = 0.6015, Accuracy = 0.5286\n",
            "Epoch 84: Loss = 0.6006, Accuracy = 0.5286\n",
            "Epoch 85: Loss = 0.5998, Accuracy = 0.5286\n",
            "Epoch 86: Loss = 0.5989, Accuracy = 0.5286\n",
            "Epoch 87: Loss = 0.5981, Accuracy = 0.5286\n",
            "Epoch 88: Loss = 0.5973, Accuracy = 0.5286\n",
            "Epoch 89: Loss = 0.5965, Accuracy = 0.5286\n",
            "Epoch 90: Loss = 0.5956, Accuracy = 0.5286\n",
            "Epoch 91: Loss = 0.5948, Accuracy = 0.5286\n",
            "Epoch 92: Loss = 0.5940, Accuracy = 0.5286\n",
            "Epoch 93: Loss = 0.5932, Accuracy = 0.5429\n",
            "Epoch 94: Loss = 0.5923, Accuracy = 0.5429\n",
            "Epoch 95: Loss = 0.5915, Accuracy = 0.5429\n",
            "Epoch 96: Loss = 0.5907, Accuracy = 0.5429\n",
            "Epoch 97: Loss = 0.5899, Accuracy = 0.5429\n",
            "Epoch 98: Loss = 0.5891, Accuracy = 0.5429\n",
            "Epoch 99: Loss = 0.5883, Accuracy = 0.5429\n",
            "Epoch 100: Loss = 0.5875, Accuracy = 0.5429\n",
            "Trained Weights: [ 0.00970513 -0.06030704  0.1317613   0.05449181]\n",
            "Trained Bias: -0.0083143024396609\n",
            "Binary Cross-Entropy Loss: 0.600878299524145\n",
            "Accuracy: 0.5\n",
            "Confusion Matrix:\n",
            " [[ 2 15]\n",
            " [ 0 13]]\n",
            "Classification Report:\n",
            "               precision    recall  f1-score   support\n",
            "\n",
            "           0       1.00      0.12      0.21        17\n",
            "           1       0.46      1.00      0.63        13\n",
            "\n",
            "    accuracy                           0.50        30\n",
            "   macro avg       0.73      0.56      0.42        30\n",
            "weighted avg       0.77      0.50      0.39        30\n",
            "\n"
          ]
        },
        {
          "output_type": "display_data",
          "data": {
            "text/plain": [
              "<Figure size 640x480 with 2 Axes>"
            ],
            "image/png": "[encoded data removed]"
          },
          "metadata": {}
        }
      ]
    },
    {
      "cell_type": "markdown",
      "source": [
        "## Problem 2\n"
      ],
      "metadata": {
        "id": "mI2y9wr2Tp8j"
      }
    },
    {
      "cell_type": "code",
      "source": [
        "import numpy as np\n",
        "import matplotlib.pyplot as plt\n",
        "from sklearn.datasets import load_iris\n",
        "from sklearn.model_selection import train_test_split\n",
        "from sklearn.preprocessing import StandardScaler\n",
        "from sklearn.metrics import mean_squared_error, r2_score\n",
        "\n",
        "# Load IRIS dataset\n",
        "\n",
        "\n",
        "# Train-Test Split (70% train, 30% test)\n",
        "X_train, X_test, y_train, y_test = train_test_split(X, y, test_size=0.3, random_state=42)\n",
        "\n",
        "# Perceptron for Regression\n",
        "class PerceptronRegressor:\n",
        "    def __init__(self, learning_rate=0.01, epochs=100):\n",
        "        self.lr = learning_rate\n",
        "        self.epochs = epochs\n",
        "        self.weights = None\n",
        "        self.bias = None\n",
        "        self.losses = []\n",
        "\n",
        "    def fit(self, X, y):\n",
        "        n_samples, n_features = X.shape\n",
        "        self.weights = np.zeros(n_features)\n",
        "        self.bias = 0\n",
        "\n",
        "        for epoch in range(self.epochs):\n",
        "            y_pred = np.dot(X, self.weights) + self.bias\n",
        "\n",
        "            # Compute MSE Loss\n",
        "            loss = np.mean((y - y_pred) ** 2)\n",
        "            self.losses.append(loss)\n",
        "\n",
        "            # Compute gradient and update weights\n",
        "            gradient = -2 * (y - y_pred)\n",
        "            self.weights -= self.lr * np.dot(gradient, X) / n_samples\n",
        "            self.bias -= self.lr * np.mean(gradient)\n",
        "\n",
        "            print(f\"Epoch {epoch+1}: MSE Loss = {loss:.4f}\")\n",
        "\n",
        "    def predict(self, X):\n",
        "        return np.dot(X, self.weights) + self.bias\n",
        "\n",
        "# Train Perceptron Regressor\n",
        "perceptron_reg = PerceptronRegressor(learning_rate=0.01, epochs=100)\n",
        "perceptron_reg.fit(X_train, y_train)\n",
        "\n",
        "# Predictions on Test Data\n",
        "y_pred = perceptron_reg.predict(X_test)\n",
        "\n",
        "# Compute Regression Metrics\n",
        "mse = mean_squared_error(y_test, y_pred)\n",
        "r2 = r2_score(y_test, y_pred)\n",
        "\n",
        "# Print Results\n",
        "print(\"Trained Weights:\", perceptron_reg.weights)\n",
        "print(\"Trained Bias:\", perceptron_reg.bias)\n",
        "print(\"Mean Squared Error (MSE):\", mse)\n",
        "print(\"R^2 Score:\", r2)\n",
        "\n",
        "# Plot Loss Curve\n",
        "plt.plot(range(1, perceptron_reg.epochs + 1), perceptron_reg.losses, marker='o')\n",
        "plt.xlabel('Epochs')\n",
        "plt.ylabel('Mean Squared Error (MSE)')\n",
        "plt.title('Loss Curve')\n",
        "plt.show()\n"
      ],
      "metadata": {
        "colab": {
          "base_uri": "https://localhost:8080/",
          "height": 1000
        },
        "id": "WQCdXfokT4I8",
        "outputId": "67932554-ff5d-48b7-97ba-9072d3ccf86e"
      },
      "execution_count": 32,
      "outputs": [
        {
          "output_type": "stream",
          "name": "stdout",
          "text": [
            "Epoch 1: MSE Loss = 17.9154\n",
            "Epoch 2: MSE Loss = 17.0705\n",
            "Epoch 3: MSE Loss = 16.2690\n",
            "Epoch 4: MSE Loss = 15.5085\n",
            "Epoch 5: MSE Loss = 14.7867\n",
            "Epoch 6: MSE Loss = 14.1016\n",
            "Epoch 7: MSE Loss = 13.4510\n",
            "Epoch 8: MSE Loss = 12.8331\n",
            "Epoch 9: MSE Loss = 12.2461\n",
            "Epoch 10: MSE Loss = 11.6883\n",
            "Epoch 11: MSE Loss = 11.1582\n",
            "Epoch 12: MSE Loss = 10.6542\n",
            "Epoch 13: MSE Loss = 10.1750\n",
            "Epoch 14: MSE Loss = 9.7191\n",
            "Epoch 15: MSE Loss = 9.2855\n",
            "Epoch 16: MSE Loss = 8.8729\n",
            "Epoch 17: MSE Loss = 8.4802\n",
            "Epoch 18: MSE Loss = 8.1064\n",
            "Epoch 19: MSE Loss = 7.7505\n",
            "Epoch 20: MSE Loss = 7.4115\n",
            "Epoch 21: MSE Loss = 7.0886\n",
            "Epoch 22: MSE Loss = 6.7810\n",
            "Epoch 23: MSE Loss = 6.4878\n",
            "Epoch 24: MSE Loss = 6.2084\n",
            "Epoch 25: MSE Loss = 5.9420\n",
            "Epoch 26: MSE Loss = 5.6880\n",
            "Epoch 27: MSE Loss = 5.4458\n",
            "Epoch 28: MSE Loss = 5.2148\n",
            "Epoch 29: MSE Loss = 4.9943\n",
            "Epoch 30: MSE Loss = 4.7840\n",
            "Epoch 31: MSE Loss = 4.5833\n",
            "Epoch 32: MSE Loss = 4.3917\n",
            "Epoch 33: MSE Loss = 4.2087\n",
            "Epoch 34: MSE Loss = 4.0341\n",
            "Epoch 35: MSE Loss = 3.8672\n",
            "Epoch 36: MSE Loss = 3.7079\n",
            "Epoch 37: MSE Loss = 3.5557\n",
            "Epoch 38: MSE Loss = 3.4102\n",
            "Epoch 39: MSE Loss = 3.2713\n",
            "Epoch 40: MSE Loss = 3.1384\n",
            "Epoch 41: MSE Loss = 3.0114\n",
            "Epoch 42: MSE Loss = 2.8900\n",
            "Epoch 43: MSE Loss = 2.7740\n",
            "Epoch 44: MSE Loss = 2.6630\n",
            "Epoch 45: MSE Loss = 2.5568\n",
            "Epoch 46: MSE Loss = 2.4552\n",
            "Epoch 47: MSE Loss = 2.3581\n",
            "Epoch 48: MSE Loss = 2.2651\n",
            "Epoch 49: MSE Loss = 2.1761\n",
            "Epoch 50: MSE Loss = 2.0910\n",
            "Epoch 51: MSE Loss = 2.0095\n",
            "Epoch 52: MSE Loss = 1.9315\n",
            "Epoch 53: MSE Loss = 1.8568\n",
            "Epoch 54: MSE Loss = 1.7853\n",
            "Epoch 55: MSE Loss = 1.7168\n",
            "Epoch 56: MSE Loss = 1.6512\n",
            "Epoch 57: MSE Loss = 1.5884\n",
            "Epoch 58: MSE Loss = 1.5283\n",
            "Epoch 59: MSE Loss = 1.4706\n",
            "Epoch 60: MSE Loss = 1.4154\n",
            "Epoch 61: MSE Loss = 1.3625\n",
            "Epoch 62: MSE Loss = 1.3118\n",
            "Epoch 63: MSE Loss = 1.2632\n",
            "Epoch 64: MSE Loss = 1.2166\n",
            "Epoch 65: MSE Loss = 1.1720\n",
            "Epoch 66: MSE Loss = 1.1292\n",
            "Epoch 67: MSE Loss = 1.0881\n",
            "Epoch 68: MSE Loss = 1.0488\n",
            "Epoch 69: MSE Loss = 1.0111\n",
            "Epoch 70: MSE Loss = 0.9749\n",
            "Epoch 71: MSE Loss = 0.9402\n",
            "Epoch 72: MSE Loss = 0.9069\n",
            "Epoch 73: MSE Loss = 0.8750\n",
            "Epoch 74: MSE Loss = 0.8444\n",
            "Epoch 75: MSE Loss = 0.8150\n",
            "Epoch 76: MSE Loss = 0.7869\n",
            "Epoch 77: MSE Loss = 0.7598\n",
            "Epoch 78: MSE Loss = 0.7339\n",
            "Epoch 79: MSE Loss = 0.7090\n",
            "Epoch 80: MSE Loss = 0.6851\n",
            "Epoch 81: MSE Loss = 0.6622\n",
            "Epoch 82: MSE Loss = 0.6402\n",
            "Epoch 83: MSE Loss = 0.6191\n",
            "Epoch 84: MSE Loss = 0.5988\n",
            "Epoch 85: MSE Loss = 0.5794\n",
            "Epoch 86: MSE Loss = 0.5607\n",
            "Epoch 87: MSE Loss = 0.5428\n",
            "Epoch 88: MSE Loss = 0.5256\n",
            "Epoch 89: MSE Loss = 0.5090\n",
            "Epoch 90: MSE Loss = 0.4932\n",
            "Epoch 91: MSE Loss = 0.4779\n",
            "Epoch 92: MSE Loss = 0.4633\n",
            "Epoch 93: MSE Loss = 0.4492\n",
            "Epoch 94: MSE Loss = 0.4358\n",
            "Epoch 95: MSE Loss = 0.4228\n",
            "Epoch 96: MSE Loss = 0.4103\n",
            "Epoch 97: MSE Loss = 0.3984\n",
            "Epoch 98: MSE Loss = 0.3869\n",
            "Epoch 99: MSE Loss = 0.3758\n",
            "Epoch 100: MSE Loss = 0.3652\n",
            "Trained Weights: [ 0.71447651 -0.42426277  0.95784576]\n",
            "Trained Bias: 3.2815623443430804\n",
            "Mean Squared Error (MSE): 0.31221453082446304\n",
            "R^2 Score: 0.9074091459728338\n"
          ]
        },
        {
          "output_type": "display_data",
          "data": {
            "text/plain": [
              "<Figure size 640x480 with 1 Axes>"
            ],
            "image/png": "[encoded data removed]"
          },
          "metadata": {}
        }
      ]
    },
    {
      "cell_type": "code",
      "source": [],
      "metadata": {
        "id": "yWeKkhPEXs9M"
      },
      "execution_count": null,
      "outputs": []
    },
    {
      "cell_type": "code",
      "source": [],
      "metadata": {
        "id": "KG0hL7GKX04L"
      },
      "execution_count": null,
      "outputs": []
    }
  ]
}